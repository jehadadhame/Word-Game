{
 "cells": [
  {
   "cell_type": "code",
   "execution_count": 1,
   "metadata": {},
   "outputs": [],
   "source": [
    "import pandas as pd"
   ]
  },
  {
   "cell_type": "code",
   "execution_count": 2,
   "metadata": {},
   "outputs": [
    {
     "name": "stdout",
     "output_type": "stream",
     "text": [
      "Warning: Looks like you're using an outdated `kagglehub` version, please consider updating (latest version: 0.3.6)\n",
      "Path to dataset files: C:\\Users\\jehad\\.cache\\kagglehub\\datasets\\rtatman\\english-word-frequency\\versions\\1\n"
     ]
    }
   ],
   "source": [
    "import kagglehub\n",
    "\n",
    "# Download latest version\n",
    "path = kagglehub.dataset_download(\"rtatman/english-word-frequency\")\n",
    "\n",
    "print(\"Path to dataset files:\", path)\n",
    "path = path + \"\\\\unigram_freq.csv\"\n"
   ]
  },
  {
   "cell_type": "code",
   "execution_count": 3,
   "metadata": {},
   "outputs": [
    {
     "name": "stdout",
     "output_type": "stream",
     "text": [
      "C:\\Users\\jehad\\.cache\\kagglehub\\datasets\\rtatman\\english-word-frequency\\versions\\1\\unigram_freq.csv\n"
     ]
    },
    {
     "data": {
      "text/plain": [
       "0    1.000000\n",
       "1    0.568466\n",
       "2    0.561796\n",
       "3    0.524596\n",
       "4    0.392515\n",
       "Name: count, dtype: float64"
      ]
     },
     "execution_count": 3,
     "metadata": {},
     "output_type": "execute_result"
    }
   ],
   "source": [
    "data = pd.read_csv(path)\n",
    "data.sort_values(by=\"count\", ascending=False, inplace=True)\n",
    "print(path)\n",
    "# print(data.info())\n",
    "# data.describe()\n",
    "(data[\"count\"]/2.313585e+10).head()"
   ]
  },
  {
   "cell_type": "code",
   "execution_count": 4,
   "metadata": {},
   "outputs": [
    {
     "name": "stderr",
     "output_type": "stream",
     "text": [
      "C:\\Users\\jehad\\AppData\\Local\\Temp\\ipykernel_22240\\3058154450.py:1: ParserWarning: Falling back to the 'python' engine because the 'c' engine does not support regex separators (separators > 1 char and different from '\\s+' are interpreted as regex); you can avoid this warning by specifying engine='python'.\n",
      "  df = pd.read_csv('en.txt', sep='  ')\n"
     ]
    },
    {
     "data": {
      "text/html": [
       "<div>\n",
       "<style scoped>\n",
       "    .dataframe tbody tr th:only-of-type {\n",
       "        vertical-align: middle;\n",
       "    }\n",
       "\n",
       "    .dataframe tbody tr th {\n",
       "        vertical-align: top;\n",
       "    }\n",
       "\n",
       "    .dataframe thead th {\n",
       "        text-align: right;\n",
       "    }\n",
       "</style>\n",
       "<table border=\"1\" class=\"dataframe\">\n",
       "  <thead>\n",
       "    <tr style=\"text-align: right;\">\n",
       "      <th></th>\n",
       "      <th>bad_word</th>\n",
       "    </tr>\n",
       "  </thead>\n",
       "  <tbody>\n",
       "    <tr>\n",
       "      <th>0</th>\n",
       "      <td>2g1c</td>\n",
       "    </tr>\n",
       "    <tr>\n",
       "      <th>1</th>\n",
       "      <td>acrotomophilia</td>\n",
       "    </tr>\n",
       "    <tr>\n",
       "      <th>2</th>\n",
       "      <td>anal</td>\n",
       "    </tr>\n",
       "    <tr>\n",
       "      <th>3</th>\n",
       "      <td>anilingus</td>\n",
       "    </tr>\n",
       "    <tr>\n",
       "      <th>4</th>\n",
       "      <td>anus</td>\n",
       "    </tr>\n",
       "  </tbody>\n",
       "</table>\n",
       "</div>"
      ],
      "text/plain": [
       "         bad_word\n",
       "0            2g1c\n",
       "1  acrotomophilia\n",
       "2            anal\n",
       "3       anilingus\n",
       "4            anus"
      ]
     },
     "execution_count": 4,
     "metadata": {},
     "output_type": "execute_result"
    }
   ],
   "source": [
    "df = pd.read_csv('en.txt', sep='  ')\n",
    "df.head()"
   ]
  },
  {
   "cell_type": "code",
   "execution_count": 5,
   "metadata": {},
   "outputs": [],
   "source": [
    "bad_words = df['bad_word'].tolist()\n",
    "data = data[~data['word'].isin(bad_words)]\n"
   ]
  },
  {
   "cell_type": "code",
   "execution_count": 6,
   "metadata": {},
   "outputs": [
    {
     "data": {
      "text/plain": [
       "20"
      ]
     },
     "execution_count": 6,
     "metadata": {},
     "output_type": "execute_result"
    }
   ],
   "source": [
    "n_level_words = []\n",
    "for level in range(1, 21):\n",
    "    part_from = 16666 * (level - 1)\n",
    "    part_to = 16666 * level\n",
    "    words = data[part_from:part_to]\n",
    "    n_level_words.append(words)\n",
    "# n_level_words[20].shape\n",
    "len(n_level_words)"
   ]
  },
  {
   "cell_type": "code",
   "execution_count": 7,
   "metadata": {},
   "outputs": [],
   "source": [
    "n_level_letters_words = []\n",
    "for level in range(20):\n",
    "    n_letter_words = []\n",
    "    for letters in range(3, 15):\n",
    "        words = n_level_words[level][n_level_words[level][\"word\"].str.len() == letters]\n",
    "        n_letter_words.append(words)\n",
    "    n_level_letters_words.append(n_letter_words)"
   ]
  },
  {
   "cell_type": "code",
   "execution_count": 8,
   "metadata": {},
   "outputs": [
    {
     "data": {
      "text/html": [
       "<div>\n",
       "<style scoped>\n",
       "    .dataframe tbody tr th:only-of-type {\n",
       "        vertical-align: middle;\n",
       "    }\n",
       "\n",
       "    .dataframe tbody tr th {\n",
       "        vertical-align: top;\n",
       "    }\n",
       "\n",
       "    .dataframe thead th {\n",
       "        text-align: right;\n",
       "    }\n",
       "</style>\n",
       "<table border=\"1\" class=\"dataframe\">\n",
       "  <thead>\n",
       "    <tr style=\"text-align: right;\">\n",
       "      <th></th>\n",
       "      <th>word</th>\n",
       "      <th>count</th>\n",
       "    </tr>\n",
       "  </thead>\n",
       "  <tbody>\n",
       "    <tr>\n",
       "      <th>0</th>\n",
       "      <td>the</td>\n",
       "      <td>23135851162</td>\n",
       "    </tr>\n",
       "    <tr>\n",
       "      <th>2</th>\n",
       "      <td>and</td>\n",
       "      <td>12997637966</td>\n",
       "    </tr>\n",
       "    <tr>\n",
       "      <th>6</th>\n",
       "      <td>for</td>\n",
       "      <td>5933321709</td>\n",
       "    </tr>\n",
       "    <tr>\n",
       "      <th>14</th>\n",
       "      <td>you</td>\n",
       "      <td>2996181025</td>\n",
       "    </tr>\n",
       "    <tr>\n",
       "      <th>16</th>\n",
       "      <td>not</td>\n",
       "      <td>2633487141</td>\n",
       "    </tr>\n",
       "  </tbody>\n",
       "</table>\n",
       "</div>"
      ],
      "text/plain": [
       "   word        count\n",
       "0   the  23135851162\n",
       "2   and  12997637966\n",
       "6   for   5933321709\n",
       "14  you   2996181025\n",
       "16  not   2633487141"
      ]
     },
     "execution_count": 8,
     "metadata": {},
     "output_type": "execute_result"
    }
   ],
   "source": [
    "n_level_letters_words[0][0].head()\n",
    "# len(n_level_letters_words[0][1])"
   ]
  },
  {
   "cell_type": "code",
   "execution_count": 9,
   "metadata": {},
   "outputs": [
    {
     "data": {
      "text/plain": [
       "12"
      ]
     },
     "execution_count": 9,
     "metadata": {},
     "output_type": "execute_result"
    }
   ],
   "source": [
    "len(n_level_letters_words[19])"
   ]
  },
  {
   "cell_type": "code",
   "execution_count": 10,
   "metadata": {},
   "outputs": [],
   "source": [
    "import math\n",
    "\n",
    "def pickLevelWordList(level):\n",
    "    lev = math.floor(level / 12)\n",
    "    num_of_letters = level % 12\n",
    "    return n_level_letters_words[lev][num_of_letters]\n",
    "    # half_length = len(n_letter_words[num_of_letters-2]) // 2  # Calculate half length\n",
    "    # word = n_letter_words[num_of_letters-2][:half_length] if does_first_half else n_letter_words[num_of_letters-2][half_length:]\n",
    "    return words"
   ]
  },
  {
   "cell_type": "code",
   "execution_count": 11,
   "metadata": {},
   "outputs": [],
   "source": [
    "final_data = {}\n",
    "\n",
    "for i in range(20):\n",
    "    level_data = {}\n",
    "    for j in range(12):\n",
    "        level_data[j] = pickLevelWordList(i)['word'].tolist()\n",
    "    final_data[i] = level_data"
   ]
  },
  {
   "cell_type": "code",
   "execution_count": 12,
   "metadata": {},
   "outputs": [],
   "source": [
    "import json\n",
    "json.dump(final_data, open(\"words.json\", \"w\"))"
   ]
  },
  {
   "cell_type": "code",
   "execution_count": 13,
   "metadata": {},
   "outputs": [],
   "source": [
    "def most_common_letter(words):\n",
    "    set = {}\n",
    "    print(len(words))\n",
    "    for word in words['word']:\n",
    "        for letter in word:\n",
    "            if letter in set:\n",
    "                set[letter] += 1\n",
    "            else:\n",
    "                set[letter] = 1\n",
    "    return set"
   ]
  },
  {
   "cell_type": "code",
   "execution_count": 25,
   "metadata": {},
   "outputs": [
    {
     "name": "stdout",
     "output_type": "stream",
     "text": [
      "1695\n",
      "[('e', 690), ('a', 650), ('s', 520), ('o', 514), ('i', 409), ('l', 404), ('t', 388), ('n', 386), ('r', 371), ('d', 272), ('p', 246), ('c', 241), ('m', 240), ('u', 211), ('h', 192), ('b', 176), ('g', 159), ('k', 148), ('f', 141), ('w', 112), ('y', 106), ('v', 84), ('j', 44), ('x', 37), ('z', 29), ('q', 10)]\n"
     ]
    }
   ],
   "source": [
    "set = most_common_letter(pickLevelWordList(1))\n",
    "sorted_items = sorted(set.items(), key=lambda item: item[1],reverse=True)\n",
    "print(sorted_items)\n",
    "# for key in set:\n",
    "#     print(key, set[key])"
   ]
  },
  {
   "cell_type": "code",
   "execution_count": 32,
   "metadata": {},
   "outputs": [
    {
     "name": "stdout",
     "output_type": "stream",
     "text": [
      "asia\n",
      "ease\n",
      "ieee\n",
      "sees\n",
      "seas\n",
      "isis\n"
     ]
    }
   ],
   "source": [
    "# pick random 5-letter\n",
    "import numpy as np\n",
    "# letters = ['a', 'e', 'i', 'o', 'u']\n",
    "# l = ['s','c','t','p','d']\n",
    "letters = ['e', 'a','s','i ']\n",
    "# for i in range(5):\n",
    "#     letters.append(chr(np.random.randint(97, 123)))\n",
    "# print(letters)\n",
    "numpydata = pickLevelWordList(1)['word'].to_numpy()\n",
    "# for word in numpydata:\n",
    "    # print(word)\n",
    "for word in numpydata:\n",
    "    # print([l in word for l in letters])\n",
    "    arr = [l in letters for l in word]\n",
    "    if all(arr):\n",
    "        print(word)"
   ]
  },
  {
   "cell_type": "code",
   "execution_count": 27,
   "metadata": {},
   "outputs": [
    {
     "name": "stdout",
     "output_type": "stream",
     "text": [
      "asses\n"
     ]
    }
   ],
   "source": [
    "numpydata = pickLevelWordList(2)['word'].to_numpy()\n",
    "# for word in numpydata:\n",
    "    # print(word)\n",
    "for word in numpydata:\n",
    "    # print([l in word for l in letters])\n",
    "    arr = [l in letters for l in word]\n",
    "    if all(arr):\n",
    "        print(word)"
   ]
  },
  {
   "cell_type": "code",
   "execution_count": 6,
   "metadata": {},
   "outputs": [],
   "source": [
    "class Letter:\n",
    "    def __init__(self, value, cor):\n",
    "        self.value = value\n",
    "        self.right = None\n",
    "        self.down = None\n",
    "        self.cordinat = cor\n",
    "\n",
    "class grid:\n",
    "    def __init__(self, word):\n",
    "        self.cordinate = []\n",
    "        \n",
    "    def add_word(self, word):\n",
    "        if(len(self.cordinate) == 0):\n",
    "            self.word = word\n",
    "            self.word_length = len(word)\n",
    "            self.first_letter = Letter(word[0], (0,0))\n",
    "            current = self.first_letter\n",
    "\n",
    "            for i in range(1, self.word_length):\n",
    "                l = Letter(word[i], (0,i))  \n",
    "                current.right = l    \n",
    "                current = l          \n",
    "        else:\n",
    "            "
   ]
  },
  {
   "cell_type": "code",
   "execution_count": 5,
   "metadata": {},
   "outputs": [
    {
     "data": {
      "text/plain": [
       "(10, 10)"
      ]
     },
     "execution_count": 5,
     "metadata": {},
     "output_type": "execute_result"
    }
   ],
   "source": [
    "import numpy\n",
    "words_list = ['own', 'now','won']\n",
    "grid = numpy.array([[0] * 10 for i in range(10)])\n",
    "grid.shape\n",
    "\n",
    "for word in words_list:\n",
    "    for i in range(10):\n",
    "        for j in range(10):\n",
    "            "
   ]
  },
  {
   "cell_type": "code",
   "execution_count": null,
   "metadata": {},
   "outputs": [],
   "source": [
    "def can_place(board, row, col, word, vertical=False, diagonal_lr=False, diagonal_rl=False):\n",
    "    if vertical:\n",
    "        if row + len(word) > len(board):\n",
    "            return False\n",
    "        return all(board[row+i][col] in ('_', word[i]) for i in range(len(word)))\n",
    "    elif diagonal_lr:\n",
    "        if row + len(word) > len(board) or col + len(word) > len(board[0]):\n",
    "            return False\n",
    "        return all(board[row+i][col+i] in ('_', word[i]) for i in range(len(word)))\n",
    "    elif diagonal_rl:\n",
    "        if row + len(word) > len(board) or col - len(word) < -1:\n",
    "            return False\n",
    "        return all(board[row+i][col-i] in ('_', word[i]) for i in range(len(word)))\n",
    "    else:\n",
    "        if col + len(word) > len(board[0]):\n",
    "            return False\n",
    "        return all(board[row][col+i] in ('_', word[i]) for i in range(len(word)))\n",
    "    \n",
    "def place_word(board, row, col, word, vertical=False, diagonal_lr=False, diagonal_rl=False):\n",
    "    intersections = []\n",
    "    if vertical:\n",
    "        for i in range(len(word)):\n",
    "            if board[row+i][col] == word[i]:\n",
    "                intersections.append((row+i, col))\n",
    "            board[row+i][col] = word[i]\n",
    "        return 'vertical', intersections\n",
    "    elif diagonal_lr:\n",
    "        for i in range(len(word)):\n",
    "            if board[row+i][col+i] == word[i]:\n",
    "                intersections.append((row+i, col+i))\n",
    "            board[row+i][col+i] = word[i]\n",
    "        return 'diagonal from left to right', intersections\n",
    "    elif diagonal_rl:\n",
    "        for i in range(len(word)):\n",
    "            if board[row+i][col-i] == word[i]:\n",
    "                intersections.append((row+i, col-i))\n",
    "            board[row+i][col-i] = word[i]\n",
    "        return 'diagonal from right to left', intersections\n",
    "    else:\n",
    "        for i in range(len(word)):\n",
    "            if board[row][col+i] == word[i]:\n",
    "                intersections.append((row, col+i))\n",
    "            board[row][col+i] = word[i]\n",
    "        return 'horizontal', intersections\n",
    "\n",
    "def fill_board(board, words, placements=[], index=0):\n",
    "    if index == len(words):\n",
    "        return [(board, placements)]\n",
    "\n",
    "    solutions = []\n",
    "    word = words[index]\n",
    "    for row in range(len(board)):\n",
    "        for col in range(len(board[0])):\n",
    "            for vertical, diagonal_lr, diagonal_rl in [(False, False, False), (True, False, False), (False, True, False), (False, False, True)]:\n",
    "                if can_place(board, row, col, word, vertical, diagonal_lr, diagonal_rl):\n",
    "                    new_board = [row.copy() for row in board]\n",
    "                    placement, intersections = place_word(new_board, row, col, word, vertical, diagonal_lr, diagonal_rl)\n",
    "                    solutions.extend(fill_board(new_board, words, placements + [(word, placement, intersections)], index+1))\n",
    "                if can_place(board, row, col, word[::-1], vertical, diagonal_lr, diagonal_rl):\n",
    "                    new_board = [row.copy() for row in board]\n",
    "                    placement, intersections = place_word(new_board, row, col, word[::-1], vertical, diagonal_lr, diagonal_rl)\n",
    "                    solutions.extend(fill_board(new_board, words, placements + [(word[::-1], placement + ' + reverse', intersections)], index+1))\n",
    "    return solutions\n",
    "\n",
    "board_size = 5\n",
    "board = [['_']*board_size for _ in range(board_size)]\n",
    "words_to_place = ['own', 'won', 'now']\n",
    "\n",
    "all_possible_boards = fill_board(board, words_to_place)\n",
    "for i, (board, placements) in enumerate(all_possible_boards):\n",
    "    print(f\"Solution {i+1}:\")\n",
    "    for row in board:\n",
    "        print(''.join(row))\n",
    "    print(\"Placements:\")\n",
    "    for word, placement, intersections in placements:\n",
    "        print(f\"{word}: {placement}, intersections at {intersections}\")\n",
    "    print()"
   ]
  }
 ],
 "metadata": {
  "kernelspec": {
   "display_name": "base",
   "language": "python",
   "name": "python3"
  },
  "language_info": {
   "codemirror_mode": {
    "name": "ipython",
    "version": 3
   },
   "file_extension": ".py",
   "mimetype": "text/x-python",
   "name": "python",
   "nbconvert_exporter": "python",
   "pygments_lexer": "ipython3",
   "version": "3.12.4"
  }
 },
 "nbformat": 4,
 "nbformat_minor": 2
}
